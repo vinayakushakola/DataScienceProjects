{
 "cells": [
  {
   "cell_type": "markdown",
   "metadata": {},
   "source": [
    "# Loan Prediction 3"
   ]
  },
  {
   "cell_type": "code",
   "execution_count": 1,
   "metadata": {},
   "outputs": [],
   "source": [
    "import pandas as pd\n",
    "import numpy as np"
   ]
  },
  {
   "cell_type": "code",
   "execution_count": 2,
   "metadata": {},
   "outputs": [],
   "source": [
    "train = pd.read_csv('train.csv')\n",
    "test = pd.read_csv('test.csv')"
   ]
  },
  {
   "cell_type": "code",
   "execution_count": 3,
   "metadata": {},
   "outputs": [
    {
     "data": {
      "text/plain": [
       "{'Loan_Status'}"
      ]
     },
     "execution_count": 3,
     "metadata": {},
     "output_type": "execute_result"
    }
   ],
   "source": [
    "set(train).difference(test)"
   ]
  },
  {
   "cell_type": "code",
   "execution_count": 4,
   "metadata": {},
   "outputs": [],
   "source": [
    "train['data'] = 'train'\n",
    "test['Loan_Status'] = np.nan\n",
    "test['data'] = 'test'"
   ]
  },
  {
   "cell_type": "code",
   "execution_count": 5,
   "metadata": {},
   "outputs": [
    {
     "data": {
      "text/html": [
       "<div>\n",
       "<style scoped>\n",
       "    .dataframe tbody tr th:only-of-type {\n",
       "        vertical-align: middle;\n",
       "    }\n",
       "\n",
       "    .dataframe tbody tr th {\n",
       "        vertical-align: top;\n",
       "    }\n",
       "\n",
       "    .dataframe thead th {\n",
       "        text-align: right;\n",
       "    }\n",
       "</style>\n",
       "<table border=\"1\" class=\"dataframe\">\n",
       "  <thead>\n",
       "    <tr style=\"text-align: right;\">\n",
       "      <th></th>\n",
       "      <th>Loan_ID</th>\n",
       "      <th>Gender</th>\n",
       "      <th>Married</th>\n",
       "      <th>Dependents</th>\n",
       "      <th>Education</th>\n",
       "      <th>Self_Employed</th>\n",
       "      <th>ApplicantIncome</th>\n",
       "      <th>CoapplicantIncome</th>\n",
       "      <th>LoanAmount</th>\n",
       "      <th>Loan_Amount_Term</th>\n",
       "      <th>Credit_History</th>\n",
       "      <th>Property_Area</th>\n",
       "      <th>Loan_Status</th>\n",
       "      <th>data</th>\n",
       "    </tr>\n",
       "  </thead>\n",
       "  <tbody>\n",
       "    <tr>\n",
       "      <th>0</th>\n",
       "      <td>LP001002</td>\n",
       "      <td>Male</td>\n",
       "      <td>No</td>\n",
       "      <td>0</td>\n",
       "      <td>Graduate</td>\n",
       "      <td>No</td>\n",
       "      <td>5849</td>\n",
       "      <td>0.0</td>\n",
       "      <td>NaN</td>\n",
       "      <td>360.0</td>\n",
       "      <td>1.0</td>\n",
       "      <td>Urban</td>\n",
       "      <td>Y</td>\n",
       "      <td>train</td>\n",
       "    </tr>\n",
       "    <tr>\n",
       "      <th>1</th>\n",
       "      <td>LP001003</td>\n",
       "      <td>Male</td>\n",
       "      <td>Yes</td>\n",
       "      <td>1</td>\n",
       "      <td>Graduate</td>\n",
       "      <td>No</td>\n",
       "      <td>4583</td>\n",
       "      <td>1508.0</td>\n",
       "      <td>128.0</td>\n",
       "      <td>360.0</td>\n",
       "      <td>1.0</td>\n",
       "      <td>Rural</td>\n",
       "      <td>N</td>\n",
       "      <td>train</td>\n",
       "    </tr>\n",
       "    <tr>\n",
       "      <th>2</th>\n",
       "      <td>LP001005</td>\n",
       "      <td>Male</td>\n",
       "      <td>Yes</td>\n",
       "      <td>0</td>\n",
       "      <td>Graduate</td>\n",
       "      <td>Yes</td>\n",
       "      <td>3000</td>\n",
       "      <td>0.0</td>\n",
       "      <td>66.0</td>\n",
       "      <td>360.0</td>\n",
       "      <td>1.0</td>\n",
       "      <td>Urban</td>\n",
       "      <td>Y</td>\n",
       "      <td>train</td>\n",
       "    </tr>\n",
       "    <tr>\n",
       "      <th>3</th>\n",
       "      <td>LP001006</td>\n",
       "      <td>Male</td>\n",
       "      <td>Yes</td>\n",
       "      <td>0</td>\n",
       "      <td>Not Graduate</td>\n",
       "      <td>No</td>\n",
       "      <td>2583</td>\n",
       "      <td>2358.0</td>\n",
       "      <td>120.0</td>\n",
       "      <td>360.0</td>\n",
       "      <td>1.0</td>\n",
       "      <td>Urban</td>\n",
       "      <td>Y</td>\n",
       "      <td>train</td>\n",
       "    </tr>\n",
       "    <tr>\n",
       "      <th>4</th>\n",
       "      <td>LP001008</td>\n",
       "      <td>Male</td>\n",
       "      <td>No</td>\n",
       "      <td>0</td>\n",
       "      <td>Graduate</td>\n",
       "      <td>No</td>\n",
       "      <td>6000</td>\n",
       "      <td>0.0</td>\n",
       "      <td>141.0</td>\n",
       "      <td>360.0</td>\n",
       "      <td>1.0</td>\n",
       "      <td>Urban</td>\n",
       "      <td>Y</td>\n",
       "      <td>train</td>\n",
       "    </tr>\n",
       "  </tbody>\n",
       "</table>\n",
       "</div>"
      ],
      "text/plain": [
       "    Loan_ID Gender Married Dependents     Education Self_Employed  \\\n",
       "0  LP001002   Male      No          0      Graduate            No   \n",
       "1  LP001003   Male     Yes          1      Graduate            No   \n",
       "2  LP001005   Male     Yes          0      Graduate           Yes   \n",
       "3  LP001006   Male     Yes          0  Not Graduate            No   \n",
       "4  LP001008   Male      No          0      Graduate            No   \n",
       "\n",
       "   ApplicantIncome  CoapplicantIncome  LoanAmount  Loan_Amount_Term  \\\n",
       "0             5849                0.0         NaN             360.0   \n",
       "1             4583             1508.0       128.0             360.0   \n",
       "2             3000                0.0        66.0             360.0   \n",
       "3             2583             2358.0       120.0             360.0   \n",
       "4             6000                0.0       141.0             360.0   \n",
       "\n",
       "   Credit_History Property_Area Loan_Status   data  \n",
       "0             1.0         Urban           Y  train  \n",
       "1             1.0         Rural           N  train  \n",
       "2             1.0         Urban           Y  train  \n",
       "3             1.0         Urban           Y  train  \n",
       "4             1.0         Urban           Y  train  "
      ]
     },
     "execution_count": 5,
     "metadata": {},
     "output_type": "execute_result"
    }
   ],
   "source": [
    "df = pd.concat([train, test], axis=0)\n",
    "df.head()"
   ]
  },
  {
   "cell_type": "code",
   "execution_count": 6,
   "metadata": {},
   "outputs": [
    {
     "data": {
      "text/plain": [
       "Loan_ID                0\n",
       "Gender                24\n",
       "Married                3\n",
       "Dependents            25\n",
       "Education              0\n",
       "Self_Employed         55\n",
       "ApplicantIncome        0\n",
       "CoapplicantIncome      0\n",
       "LoanAmount            27\n",
       "Loan_Amount_Term      20\n",
       "Credit_History        79\n",
       "Property_Area          0\n",
       "Loan_Status          367\n",
       "data                   0\n",
       "dtype: int64"
      ]
     },
     "execution_count": 6,
     "metadata": {},
     "output_type": "execute_result"
    }
   ],
   "source": [
    "df.isnull().sum()"
   ]
  },
  {
   "cell_type": "code",
   "execution_count": 7,
   "metadata": {},
   "outputs": [
    {
     "data": {
      "text/plain": [
       "[('Loan_ID', dtype('O'), 981),\n",
       " ('Gender', dtype('O'), 2),\n",
       " ('Married', dtype('O'), 2),\n",
       " ('Dependents', dtype('O'), 4),\n",
       " ('Education', dtype('O'), 2),\n",
       " ('Self_Employed', dtype('O'), 2),\n",
       " ('ApplicantIncome', dtype('int64'), 752),\n",
       " ('CoapplicantIncome', dtype('float64'), 437),\n",
       " ('LoanAmount', dtype('float64'), 232),\n",
       " ('Loan_Amount_Term', dtype('float64'), 12),\n",
       " ('Credit_History', dtype('float64'), 2),\n",
       " ('Property_Area', dtype('O'), 3),\n",
       " ('Loan_Status', dtype('O'), 2),\n",
       " ('data', dtype('O'), 2)]"
      ]
     },
     "execution_count": 7,
     "metadata": {},
     "output_type": "execute_result"
    }
   ],
   "source": [
    "list(zip(df.columns, df.dtypes, df.nunique()))"
   ]
  },
  {
   "cell_type": "code",
   "execution_count": 8,
   "metadata": {},
   "outputs": [],
   "source": [
    "df['Gender'].fillna('Male', inplace=True)\n",
    "df['Married'].fillna('Yes', inplace=True)\n",
    "df['Dependents'].fillna('0', inplace=True)\n",
    "df['Self_Employed'].fillna('No', inplace=True)\n",
    "df['LoanAmount'].fillna(142.6, inplace=True)\n",
    "df['Loan_Amount_Term'].fillna(360.0, inplace=True)\n",
    "df['Credit_History'].fillna(1.0, inplace=True)"
   ]
  },
  {
   "cell_type": "code",
   "execution_count": 9,
   "metadata": {},
   "outputs": [
    {
     "data": {
      "text/plain": [
       "Loan_ID                0\n",
       "Gender                 0\n",
       "Married                0\n",
       "Dependents             0\n",
       "Education              0\n",
       "Self_Employed          0\n",
       "ApplicantIncome        0\n",
       "CoapplicantIncome      0\n",
       "LoanAmount             0\n",
       "Loan_Amount_Term       0\n",
       "Credit_History         0\n",
       "Property_Area          0\n",
       "Loan_Status          367\n",
       "data                   0\n",
       "dtype: int64"
      ]
     },
     "execution_count": 9,
     "metadata": {},
     "output_type": "execute_result"
    }
   ],
   "source": [
    "df.isnull().sum()"
   ]
  },
  {
   "cell_type": "code",
   "execution_count": 10,
   "metadata": {},
   "outputs": [
    {
     "data": {
      "text/html": [
       "<div>\n",
       "<style scoped>\n",
       "    .dataframe tbody tr th:only-of-type {\n",
       "        vertical-align: middle;\n",
       "    }\n",
       "\n",
       "    .dataframe tbody tr th {\n",
       "        vertical-align: top;\n",
       "    }\n",
       "\n",
       "    .dataframe thead th {\n",
       "        text-align: right;\n",
       "    }\n",
       "</style>\n",
       "<table border=\"1\" class=\"dataframe\">\n",
       "  <thead>\n",
       "    <tr style=\"text-align: right;\">\n",
       "      <th>Loan_Amount_Term</th>\n",
       "      <th>6.0</th>\n",
       "      <th>12.0</th>\n",
       "      <th>36.0</th>\n",
       "      <th>60.0</th>\n",
       "      <th>84.0</th>\n",
       "      <th>120.0</th>\n",
       "      <th>180.0</th>\n",
       "      <th>240.0</th>\n",
       "      <th>300.0</th>\n",
       "      <th>350.0</th>\n",
       "      <th>360.0</th>\n",
       "      <th>480.0</th>\n",
       "    </tr>\n",
       "    <tr>\n",
       "      <th>Loan_Status</th>\n",
       "      <th></th>\n",
       "      <th></th>\n",
       "      <th></th>\n",
       "      <th></th>\n",
       "      <th></th>\n",
       "      <th></th>\n",
       "      <th></th>\n",
       "      <th></th>\n",
       "      <th></th>\n",
       "      <th></th>\n",
       "      <th></th>\n",
       "      <th></th>\n",
       "    </tr>\n",
       "  </thead>\n",
       "  <tbody>\n",
       "    <tr>\n",
       "      <th>N</th>\n",
       "      <td>0</td>\n",
       "      <td>0</td>\n",
       "      <td>2</td>\n",
       "      <td>0</td>\n",
       "      <td>1</td>\n",
       "      <td>0</td>\n",
       "      <td>15</td>\n",
       "      <td>1</td>\n",
       "      <td>5</td>\n",
       "      <td>0</td>\n",
       "      <td>159</td>\n",
       "      <td>9</td>\n",
       "    </tr>\n",
       "    <tr>\n",
       "      <th>Y</th>\n",
       "      <td>0</td>\n",
       "      <td>1</td>\n",
       "      <td>0</td>\n",
       "      <td>2</td>\n",
       "      <td>3</td>\n",
       "      <td>3</td>\n",
       "      <td>29</td>\n",
       "      <td>3</td>\n",
       "      <td>8</td>\n",
       "      <td>0</td>\n",
       "      <td>367</td>\n",
       "      <td>6</td>\n",
       "    </tr>\n",
       "  </tbody>\n",
       "</table>\n",
       "</div>"
      ],
      "text/plain": [
       "Loan_Amount_Term  6.0    12.0   36.0   60.0   84.0   120.0  180.0  240.0  \\\n",
       "Loan_Status                                                                \n",
       "N                     0      0      2      0      1      0     15      1   \n",
       "Y                     0      1      0      2      3      3     29      3   \n",
       "\n",
       "Loan_Amount_Term  300.0  350.0  360.0  480.0  \n",
       "Loan_Status                                   \n",
       "N                     5      0    159      9  \n",
       "Y                     8      0    367      6  "
      ]
     },
     "execution_count": 10,
     "metadata": {},
     "output_type": "execute_result"
    }
   ],
   "source": [
    "pd.crosstab(df['Loan_Status'], df['Loan_Amount_Term'], dropna=False)"
   ]
  },
  {
   "cell_type": "code",
   "execution_count": 11,
   "metadata": {},
   "outputs": [],
   "source": [
    "df['Loan_Amount_Term'] = np.where(df['Loan_Amount_Term'].isin([6.0,12.0, 36.0, 60.0, 84.0, 120.0, 240.0,350.0]), 'LoanAmtTerm1', df['Loan_Amount_Term'])\n",
    "df['Loan_Amount_Term'] = np.where(df['Loan_Amount_Term'] == '360.0', 'LoanAmtTerm2', df['Loan_Amount_Term'])\n",
    "df['Loan_Amount_Term'] = np.where(df['Loan_Amount_Term'].isin(['300.0', '480.0']), 'LoanAmtTerm3', df['Loan_Amount_Term'])\n",
    "df['Loan_Amount_Term'] = np.where(df['Loan_Amount_Term'] == '180.0', 'LoanAmtTerm4', df['Loan_Amount_Term'])"
   ]
  },
  {
   "cell_type": "code",
   "execution_count": 12,
   "metadata": {},
   "outputs": [
    {
     "data": {
      "text/plain": [
       "LoanAmtTerm2    843\n",
       "LoanAmtTerm4     66\n",
       "LoanAmtTerm3     43\n",
       "LoanAmtTerm1     29\n",
       "Name: Loan_Amount_Term, dtype: int64"
      ]
     },
     "execution_count": 12,
     "metadata": {},
     "output_type": "execute_result"
    }
   ],
   "source": [
    "df['Loan_Amount_Term'].value_counts(dropna=False)"
   ]
  },
  {
   "cell_type": "code",
   "execution_count": 13,
   "metadata": {},
   "outputs": [
    {
     "data": {
      "text/plain": [
       "Index(['Gender', 'Married', 'Dependents', 'Education', 'Self_Employed',\n",
       "       'Loan_Amount_Term', 'Property_Area'],\n",
       "      dtype='object')"
      ]
     },
     "execution_count": 13,
     "metadata": {},
     "output_type": "execute_result"
    }
   ],
   "source": [
    "del df['Loan_ID']\n",
    "cat_cols = df.select_dtypes('object').columns\n",
    "cat_cols = cat_cols[:-2]\n",
    "cat_cols"
   ]
  },
  {
   "cell_type": "code",
   "execution_count": 14,
   "metadata": {},
   "outputs": [
    {
     "data": {
      "text/html": [
       "<div>\n",
       "<style scoped>\n",
       "    .dataframe tbody tr th:only-of-type {\n",
       "        vertical-align: middle;\n",
       "    }\n",
       "\n",
       "    .dataframe tbody tr th {\n",
       "        vertical-align: top;\n",
       "    }\n",
       "\n",
       "    .dataframe thead th {\n",
       "        text-align: right;\n",
       "    }\n",
       "</style>\n",
       "<table border=\"1\" class=\"dataframe\">\n",
       "  <thead>\n",
       "    <tr style=\"text-align: right;\">\n",
       "      <th></th>\n",
       "      <th>ApplicantIncome</th>\n",
       "      <th>CoapplicantIncome</th>\n",
       "      <th>LoanAmount</th>\n",
       "      <th>Credit_History</th>\n",
       "      <th>Loan_Status</th>\n",
       "      <th>data</th>\n",
       "      <th>Gender_Male</th>\n",
       "      <th>Married_Yes</th>\n",
       "      <th>Dependents_1</th>\n",
       "      <th>Dependents_2</th>\n",
       "      <th>Dependents_3+</th>\n",
       "      <th>Education_Not Graduate</th>\n",
       "      <th>Self_Employed_Yes</th>\n",
       "      <th>Loan_Amount_Term_LoanAmtTerm2</th>\n",
       "      <th>Loan_Amount_Term_LoanAmtTerm3</th>\n",
       "      <th>Loan_Amount_Term_LoanAmtTerm4</th>\n",
       "      <th>Property_Area_Semiurban</th>\n",
       "      <th>Property_Area_Urban</th>\n",
       "    </tr>\n",
       "  </thead>\n",
       "  <tbody>\n",
       "    <tr>\n",
       "      <th>0</th>\n",
       "      <td>5849</td>\n",
       "      <td>0.0</td>\n",
       "      <td>142.6</td>\n",
       "      <td>1.0</td>\n",
       "      <td>1</td>\n",
       "      <td>train</td>\n",
       "      <td>1</td>\n",
       "      <td>0</td>\n",
       "      <td>0</td>\n",
       "      <td>0</td>\n",
       "      <td>0</td>\n",
       "      <td>0</td>\n",
       "      <td>0</td>\n",
       "      <td>1</td>\n",
       "      <td>0</td>\n",
       "      <td>0</td>\n",
       "      <td>0</td>\n",
       "      <td>1</td>\n",
       "    </tr>\n",
       "    <tr>\n",
       "      <th>1</th>\n",
       "      <td>4583</td>\n",
       "      <td>1508.0</td>\n",
       "      <td>128.0</td>\n",
       "      <td>1.0</td>\n",
       "      <td>0</td>\n",
       "      <td>train</td>\n",
       "      <td>1</td>\n",
       "      <td>1</td>\n",
       "      <td>1</td>\n",
       "      <td>0</td>\n",
       "      <td>0</td>\n",
       "      <td>0</td>\n",
       "      <td>0</td>\n",
       "      <td>1</td>\n",
       "      <td>0</td>\n",
       "      <td>0</td>\n",
       "      <td>0</td>\n",
       "      <td>0</td>\n",
       "    </tr>\n",
       "    <tr>\n",
       "      <th>2</th>\n",
       "      <td>3000</td>\n",
       "      <td>0.0</td>\n",
       "      <td>66.0</td>\n",
       "      <td>1.0</td>\n",
       "      <td>1</td>\n",
       "      <td>train</td>\n",
       "      <td>1</td>\n",
       "      <td>1</td>\n",
       "      <td>0</td>\n",
       "      <td>0</td>\n",
       "      <td>0</td>\n",
       "      <td>0</td>\n",
       "      <td>1</td>\n",
       "      <td>1</td>\n",
       "      <td>0</td>\n",
       "      <td>0</td>\n",
       "      <td>0</td>\n",
       "      <td>1</td>\n",
       "    </tr>\n",
       "    <tr>\n",
       "      <th>3</th>\n",
       "      <td>2583</td>\n",
       "      <td>2358.0</td>\n",
       "      <td>120.0</td>\n",
       "      <td>1.0</td>\n",
       "      <td>1</td>\n",
       "      <td>train</td>\n",
       "      <td>1</td>\n",
       "      <td>1</td>\n",
       "      <td>0</td>\n",
       "      <td>0</td>\n",
       "      <td>0</td>\n",
       "      <td>1</td>\n",
       "      <td>0</td>\n",
       "      <td>1</td>\n",
       "      <td>0</td>\n",
       "      <td>0</td>\n",
       "      <td>0</td>\n",
       "      <td>1</td>\n",
       "    </tr>\n",
       "    <tr>\n",
       "      <th>4</th>\n",
       "      <td>6000</td>\n",
       "      <td>0.0</td>\n",
       "      <td>141.0</td>\n",
       "      <td>1.0</td>\n",
       "      <td>1</td>\n",
       "      <td>train</td>\n",
       "      <td>1</td>\n",
       "      <td>0</td>\n",
       "      <td>0</td>\n",
       "      <td>0</td>\n",
       "      <td>0</td>\n",
       "      <td>0</td>\n",
       "      <td>0</td>\n",
       "      <td>1</td>\n",
       "      <td>0</td>\n",
       "      <td>0</td>\n",
       "      <td>0</td>\n",
       "      <td>1</td>\n",
       "    </tr>\n",
       "  </tbody>\n",
       "</table>\n",
       "</div>"
      ],
      "text/plain": [
       "   ApplicantIncome  CoapplicantIncome  LoanAmount  Credit_History  \\\n",
       "0             5849                0.0       142.6             1.0   \n",
       "1             4583             1508.0       128.0             1.0   \n",
       "2             3000                0.0        66.0             1.0   \n",
       "3             2583             2358.0       120.0             1.0   \n",
       "4             6000                0.0       141.0             1.0   \n",
       "\n",
       "   Loan_Status   data  Gender_Male  Married_Yes  Dependents_1  Dependents_2  \\\n",
       "0            1  train            1            0             0             0   \n",
       "1            0  train            1            1             1             0   \n",
       "2            1  train            1            1             0             0   \n",
       "3            1  train            1            1             0             0   \n",
       "4            1  train            1            0             0             0   \n",
       "\n",
       "   Dependents_3+  Education_Not Graduate  Self_Employed_Yes  \\\n",
       "0              0                       0                  0   \n",
       "1              0                       0                  0   \n",
       "2              0                       0                  1   \n",
       "3              0                       1                  0   \n",
       "4              0                       0                  0   \n",
       "\n",
       "   Loan_Amount_Term_LoanAmtTerm2  Loan_Amount_Term_LoanAmtTerm3  \\\n",
       "0                              1                              0   \n",
       "1                              1                              0   \n",
       "2                              1                              0   \n",
       "3                              1                              0   \n",
       "4                              1                              0   \n",
       "\n",
       "   Loan_Amount_Term_LoanAmtTerm4  Property_Area_Semiurban  Property_Area_Urban  \n",
       "0                              0                        0                    1  \n",
       "1                              0                        0                    0  \n",
       "2                              0                        0                    1  \n",
       "3                              0                        0                    1  \n",
       "4                              0                        0                    1  "
      ]
     },
     "execution_count": 14,
     "metadata": {},
     "output_type": "execute_result"
    }
   ],
   "source": [
    "df = pd.get_dummies(df, columns=cat_cols, prefix=cat_cols, drop_first=True)\n",
    "df['Loan_Status'] = np.where(df['Loan_Status'] == 'Y', 1, 0)\n",
    "df.head()"
   ]
  },
  {
   "cell_type": "code",
   "execution_count": null,
   "metadata": {},
   "outputs": [],
   "source": []
  },
  {
   "cell_type": "code",
   "execution_count": 15,
   "metadata": {},
   "outputs": [
    {
     "name": "stderr",
     "output_type": "stream",
     "text": [
      "C:\\ProgramData\\Anaconda3\\lib\\site-packages\\pandas\\core\\frame.py:3940: SettingWithCopyWarning: \n",
      "A value is trying to be set on a copy of a slice from a DataFrame\n",
      "\n",
      "See the caveats in the documentation: http://pandas.pydata.org/pandas-docs/stable/indexing.html#indexing-view-versus-copy\n",
      "  errors=errors)\n"
     ]
    }
   ],
   "source": [
    "train = df[df['data'] == 'train']\n",
    "test = df[df['data'] == 'test']\n",
    "del train['data']\n",
    "test.drop(['Loan_Status', 'data'], axis=1, inplace=True)"
   ]
  },
  {
   "cell_type": "code",
   "execution_count": 47,
   "metadata": {},
   "outputs": [],
   "source": [
    "X = train.drop('Loan_Status', axis=1)\n",
    "y = train['Loan_Status']\n",
    "X_train, X_test, y_train, y_test = train_test_split(X, y, test_size=0.2, random_state=19)"
   ]
  },
  {
   "cell_type": "code",
   "execution_count": 48,
   "metadata": {},
   "outputs": [
    {
     "name": "stderr",
     "output_type": "stream",
     "text": [
      "C:\\ProgramData\\Anaconda3\\lib\\site-packages\\sklearn\\linear_model\\logistic.py:432: FutureWarning: Default solver will be changed to 'lbfgs' in 0.22. Specify a solver to silence this warning.\n",
      "  FutureWarning)\n"
     ]
    },
    {
     "data": {
      "text/plain": [
       "0.8943089430894309"
      ]
     },
     "execution_count": 48,
     "metadata": {},
     "output_type": "execute_result"
    }
   ],
   "source": [
    "from sklearn.linear_model import LogisticRegression\n",
    "model = LogisticRegression()\n",
    "model.fit(X_train, y_train)\n",
    "y_pred = model.predict(X_test)\n",
    "accuracy_score(y_test, y_pred)"
   ]
  },
  {
   "cell_type": "code",
   "execution_count": 51,
   "metadata": {},
   "outputs": [
    {
     "name": "stderr",
     "output_type": "stream",
     "text": [
      "C:\\ProgramData\\Anaconda3\\lib\\site-packages\\sklearn\\linear_model\\logistic.py:432: FutureWarning: Default solver will be changed to 'lbfgs' in 0.22. Specify a solver to silence this warning.\n",
      "  FutureWarning)\n"
     ]
    }
   ],
   "source": [
    "model.fit(X, y)\n",
    "test_pred = model.predict(test)"
   ]
  },
  {
   "cell_type": "code",
   "execution_count": 52,
   "metadata": {},
   "outputs": [
    {
     "data": {
      "text/html": [
       "<div>\n",
       "<style scoped>\n",
       "    .dataframe tbody tr th:only-of-type {\n",
       "        vertical-align: middle;\n",
       "    }\n",
       "\n",
       "    .dataframe tbody tr th {\n",
       "        vertical-align: top;\n",
       "    }\n",
       "\n",
       "    .dataframe thead th {\n",
       "        text-align: right;\n",
       "    }\n",
       "</style>\n",
       "<table border=\"1\" class=\"dataframe\">\n",
       "  <thead>\n",
       "    <tr style=\"text-align: right;\">\n",
       "      <th></th>\n",
       "      <th>Loan_ID</th>\n",
       "      <th>Loan_Status</th>\n",
       "    </tr>\n",
       "  </thead>\n",
       "  <tbody>\n",
       "    <tr>\n",
       "      <th>362</th>\n",
       "      <td>LP002971</td>\n",
       "      <td>Y</td>\n",
       "    </tr>\n",
       "    <tr>\n",
       "      <th>363</th>\n",
       "      <td>LP002975</td>\n",
       "      <td>Y</td>\n",
       "    </tr>\n",
       "    <tr>\n",
       "      <th>364</th>\n",
       "      <td>LP002980</td>\n",
       "      <td>Y</td>\n",
       "    </tr>\n",
       "    <tr>\n",
       "      <th>365</th>\n",
       "      <td>LP002986</td>\n",
       "      <td>Y</td>\n",
       "    </tr>\n",
       "    <tr>\n",
       "      <th>366</th>\n",
       "      <td>LP002989</td>\n",
       "      <td>Y</td>\n",
       "    </tr>\n",
       "  </tbody>\n",
       "</table>\n",
       "</div>"
      ],
      "text/plain": [
       "      Loan_ID Loan_Status\n",
       "362  LP002971           Y\n",
       "363  LP002975           Y\n",
       "364  LP002980           Y\n",
       "365  LP002986           Y\n",
       "366  LP002989           Y"
      ]
     },
     "execution_count": 52,
     "metadata": {},
     "output_type": "execute_result"
    }
   ],
   "source": [
    "Submission = pd.read_csv('sample_submission.csv')\n",
    "del Submission['Loan_Status']\n",
    "Submission['Loan_Status'] = test_pred\n",
    "Submission['Loan_Status'] = np.where(Submission['Loan_Status'] == 1, \"Y\", 'N')\n",
    "Submission.tail()"
   ]
  },
  {
   "cell_type": "code",
   "execution_count": 53,
   "metadata": {},
   "outputs": [],
   "source": [
    "Submission.to_csv('ss.csv', index=False)"
   ]
  },
  {
   "cell_type": "markdown",
   "metadata": {},
   "source": [
    "# Model Building"
   ]
  },
  {
   "cell_type": "code",
   "execution_count": 37,
   "metadata": {},
   "outputs": [],
   "source": [
    "from sklearn.tree import DecisionTreeClassifier, DecisionTreeRegressor\n",
    "from sklearn import tree\n",
    "from sklearn.metrics import roc_auc_score, accuracy_score, confusion_matrix\n",
    "from sklearn.model_selection import RandomizedSearchCV, train_test_split"
   ]
  },
  {
   "cell_type": "code",
   "execution_count": 17,
   "metadata": {},
   "outputs": [],
   "source": [
    "train_sub, test_sub = train_test_split(train, test_size=0.2, random_state=19)"
   ]
  },
  {
   "cell_type": "code",
   "execution_count": 36,
   "metadata": {},
   "outputs": [],
   "source": [
    "x_train = train_sub.drop('Loan_Status', axis=1)\n",
    "y_train = train_sub['Loan_Status']\n",
    "x_test = test_sub.drop('Loan_Status', axis=1)\n",
    "y_test = test_sub['Loan_Status']"
   ]
  },
  {
   "cell_type": "code",
   "execution_count": 40,
   "metadata": {},
   "outputs": [
    {
     "name": "stderr",
     "output_type": "stream",
     "text": [
      "C:\\ProgramData\\Anaconda3\\lib\\site-packages\\sklearn\\linear_model\\logistic.py:432: FutureWarning: Default solver will be changed to 'lbfgs' in 0.22. Specify a solver to silence this warning.\n",
      "  FutureWarning)\n"
     ]
    },
    {
     "data": {
      "text/plain": [
       "0.8943089430894309"
      ]
     },
     "execution_count": 40,
     "metadata": {},
     "output_type": "execute_result"
    }
   ],
   "source": [
    "from sklearn.linear_model import LogisticRegression\n",
    "logr = LogisticRegression().fit(x_train, y_train)\n",
    "y_pred = logr.predict(x_test)\n",
    "accuracy_score(y_pred, y_test)"
   ]
  },
  {
   "cell_type": "code",
   "execution_count": 19,
   "metadata": {},
   "outputs": [],
   "source": [
    "clf = DecisionTreeClassifier()"
   ]
  },
  {
   "cell_type": "code",
   "execution_count": 20,
   "metadata": {},
   "outputs": [],
   "source": [
    "params = { 'class_weight':[None], \n",
    "        'criterion':['entropy'],\n",
    "        'max_depth':[6],\n",
    "        'min_samples_leaf':[18],\n",
    "        'min_samples_split':[35]}"
   ]
  },
  {
   "cell_type": "code",
   "execution_count": 21,
   "metadata": {},
   "outputs": [],
   "source": [
    "random = RandomizedSearchCV(clf,\n",
    "                           param_distributions=params,\n",
    "                           cv = 10,\n",
    "                           scoring = 'accuracy',\n",
    "                           verbose = 2,\n",
    "                           n_iter = 10,\n",
    "                           random_state=42)"
   ]
  },
  {
   "cell_type": "code",
   "execution_count": 22,
   "metadata": {},
   "outputs": [
    {
     "name": "stderr",
     "output_type": "stream",
     "text": [
      "C:\\ProgramData\\Anaconda3\\lib\\site-packages\\sklearn\\model_selection\\_search.py:266: UserWarning: The total space of parameters 1 is smaller than n_iter=10. Running 1 iterations. For exhaustive searches, use GridSearchCV.\n",
      "  % (grid_size, self.n_iter, grid_size), UserWarning)\n",
      "[Parallel(n_jobs=1)]: Using backend SequentialBackend with 1 concurrent workers.\n",
      "[Parallel(n_jobs=1)]: Done   1 out of   1 | elapsed:    0.0s remaining:    0.0s\n"
     ]
    },
    {
     "name": "stdout",
     "output_type": "stream",
     "text": [
      "Fitting 10 folds for each of 1 candidates, totalling 10 fits\n",
      "[CV] min_samples_split=35, min_samples_leaf=18, max_depth=6, criterion=entropy, class_weight=None \n",
      "[CV]  min_samples_split=35, min_samples_leaf=18, max_depth=6, criterion=entropy, class_weight=None, total=   0.0s\n",
      "[CV] min_samples_split=35, min_samples_leaf=18, max_depth=6, criterion=entropy, class_weight=None \n",
      "[CV]  min_samples_split=35, min_samples_leaf=18, max_depth=6, criterion=entropy, class_weight=None, total=   0.0s\n",
      "[CV] min_samples_split=35, min_samples_leaf=18, max_depth=6, criterion=entropy, class_weight=None \n",
      "[CV]  min_samples_split=35, min_samples_leaf=18, max_depth=6, criterion=entropy, class_weight=None, total=   0.0s\n",
      "[CV] min_samples_split=35, min_samples_leaf=18, max_depth=6, criterion=entropy, class_weight=None \n",
      "[CV]  min_samples_split=35, min_samples_leaf=18, max_depth=6, criterion=entropy, class_weight=None, total=   0.0s\n",
      "[CV] min_samples_split=35, min_samples_leaf=18, max_depth=6, criterion=entropy, class_weight=None \n",
      "[CV]  min_samples_split=35, min_samples_leaf=18, max_depth=6, criterion=entropy, class_weight=None, total=   0.0s\n",
      "[CV] min_samples_split=35, min_samples_leaf=18, max_depth=6, criterion=entropy, class_weight=None \n",
      "[CV]  min_samples_split=35, min_samples_leaf=18, max_depth=6, criterion=entropy, class_weight=None, total=   0.0s\n",
      "[CV] min_samples_split=35, min_samples_leaf=18, max_depth=6, criterion=entropy, class_weight=None \n",
      "[CV]  min_samples_split=35, min_samples_leaf=18, max_depth=6, criterion=entropy, class_weight=None, total=   0.0s\n",
      "[CV] min_samples_split=35, min_samples_leaf=18, max_depth=6, criterion=entropy, class_weight=None \n",
      "[CV]  min_samples_split=35, min_samples_leaf=18, max_depth=6, criterion=entropy, class_weight=None, total=   0.0s\n",
      "[CV] min_samples_split=35, min_samples_leaf=18, max_depth=6, criterion=entropy, class_weight=None \n",
      "[CV]  min_samples_split=35, min_samples_leaf=18, max_depth=6, criterion=entropy, class_weight=None, total=   0.0s\n",
      "[CV] min_samples_split=35, min_samples_leaf=18, max_depth=6, criterion=entropy, class_weight=None \n",
      "[CV]  min_samples_split=35, min_samples_leaf=18, max_depth=6, criterion=entropy, class_weight=None, total=   0.0s\n"
     ]
    },
    {
     "name": "stderr",
     "output_type": "stream",
     "text": [
      "[Parallel(n_jobs=1)]: Done  10 out of  10 | elapsed:    0.1s finished\n"
     ]
    },
    {
     "data": {
      "text/plain": [
       "RandomizedSearchCV(cv=10, error_score='raise-deprecating',\n",
       "                   estimator=DecisionTreeClassifier(class_weight=None,\n",
       "                                                    criterion='gini',\n",
       "                                                    max_depth=None,\n",
       "                                                    max_features=None,\n",
       "                                                    max_leaf_nodes=None,\n",
       "                                                    min_impurity_decrease=0.0,\n",
       "                                                    min_impurity_split=None,\n",
       "                                                    min_samples_leaf=1,\n",
       "                                                    min_samples_split=2,\n",
       "                                                    min_weight_fraction_leaf=0.0,\n",
       "                                                    presort=False,\n",
       "                                                    random_state=None,\n",
       "                                                    splitter='best'),\n",
       "                   iid='warn', n_iter=10, n_jobs=None,\n",
       "                   param_distributions={'class_weight': [None],\n",
       "                                        'criterion': ['entropy'],\n",
       "                                        'max_depth': [6],\n",
       "                                        'min_samples_leaf': [18],\n",
       "                                        'min_samples_split': [35]},\n",
       "                   pre_dispatch='2*n_jobs', random_state=42, refit=True,\n",
       "                   return_train_score=False, scoring='accuracy', verbose=2)"
      ]
     },
     "execution_count": 22,
     "metadata": {},
     "output_type": "execute_result"
    }
   ],
   "source": [
    "random.fit(x_train,y_train)"
   ]
  },
  {
   "cell_type": "code",
   "execution_count": 23,
   "metadata": {},
   "outputs": [
    {
     "data": {
      "text/plain": [
       "DecisionTreeClassifier(class_weight=None, criterion='entropy', max_depth=6,\n",
       "                       max_features=None, max_leaf_nodes=None,\n",
       "                       min_impurity_decrease=0.0, min_impurity_split=None,\n",
       "                       min_samples_leaf=18, min_samples_split=35,\n",
       "                       min_weight_fraction_leaf=0.0, presort=False,\n",
       "                       random_state=None, splitter='best')"
      ]
     },
     "execution_count": 23,
     "metadata": {},
     "output_type": "execute_result"
    }
   ],
   "source": [
    "random.best_estimator_"
   ]
  },
  {
   "cell_type": "code",
   "execution_count": 24,
   "metadata": {},
   "outputs": [
    {
     "data": {
      "text/plain": [
       "{'mean_fit_time': array([0.01760068]),\n",
       " 'std_fit_time': array([0.00888573]),\n",
       " 'mean_score_time': array([0.00279884]),\n",
       " 'std_score_time': array([0.00312302]),\n",
       " 'param_min_samples_split': masked_array(data=[35],\n",
       "              mask=[False],\n",
       "        fill_value='?',\n",
       "             dtype=object),\n",
       " 'param_min_samples_leaf': masked_array(data=[18],\n",
       "              mask=[False],\n",
       "        fill_value='?',\n",
       "             dtype=object),\n",
       " 'param_max_depth': masked_array(data=[6],\n",
       "              mask=[False],\n",
       "        fill_value='?',\n",
       "             dtype=object),\n",
       " 'param_criterion': masked_array(data=['entropy'],\n",
       "              mask=[False],\n",
       "        fill_value='?',\n",
       "             dtype=object),\n",
       " 'param_class_weight': masked_array(data=[None],\n",
       "              mask=[False],\n",
       "        fill_value='?',\n",
       "             dtype=object),\n",
       " 'params': [{'min_samples_split': 35,\n",
       "   'min_samples_leaf': 18,\n",
       "   'max_depth': 6,\n",
       "   'criterion': 'entropy',\n",
       "   'class_weight': None}],\n",
       " 'split0_test_score': array([0.76]),\n",
       " 'split1_test_score': array([0.72]),\n",
       " 'split2_test_score': array([0.84]),\n",
       " 'split3_test_score': array([0.8]),\n",
       " 'split4_test_score': array([0.59183673]),\n",
       " 'split5_test_score': array([0.73469388]),\n",
       " 'split6_test_score': array([0.7755102]),\n",
       " 'split7_test_score': array([0.75]),\n",
       " 'split8_test_score': array([0.79166667]),\n",
       " 'split9_test_score': array([0.77083333]),\n",
       " 'mean_test_score': array([0.75356415]),\n",
       " 'std_test_score': array([0.06297224]),\n",
       " 'rank_test_score': array([1])}"
      ]
     },
     "execution_count": 24,
     "metadata": {},
     "output_type": "execute_result"
    }
   ],
   "source": [
    "random.cv_results_"
   ]
  },
  {
   "cell_type": "code",
   "execution_count": 25,
   "metadata": {},
   "outputs": [],
   "source": [
    "def report(results, n_top=3):\n",
    "    for i in range(1, n_top + 1):\n",
    "        candidates = np.flatnonzero(results['rank_test_score'] == i)\n",
    "        for candidate in candidates:\n",
    "            print(\"Model with rank: {0}\".format(i))\n",
    "            print(\"Mean validation score: {0:.3f} (std: {1:.5f})\".format(\n",
    "                  results['mean_test_score'][candidate],\n",
    "                  results['std_test_score'][candidate]))\n",
    "            print(\"Parameters: {0}\".format(results['params'][candidate]))\n",
    "            print(\"\")"
   ]
  },
  {
   "cell_type": "code",
   "execution_count": 26,
   "metadata": {},
   "outputs": [
    {
     "name": "stdout",
     "output_type": "stream",
     "text": [
      "Model with rank: 1\n",
      "Mean validation score: 0.754 (std: 0.06297)\n",
      "Parameters: {'min_samples_split': 35, 'min_samples_leaf': 18, 'max_depth': 6, 'criterion': 'entropy', 'class_weight': None}\n",
      "\n"
     ]
    }
   ],
   "source": [
    "report(random.cv_results_,5)"
   ]
  },
  {
   "cell_type": "code",
   "execution_count": 27,
   "metadata": {},
   "outputs": [],
   "source": [
    "dtree=random.best_estimator_"
   ]
  },
  {
   "cell_type": "code",
   "execution_count": 43,
   "metadata": {},
   "outputs": [
    {
     "data": {
      "text/plain": [
       "DecisionTreeClassifier(class_weight=None, criterion='entropy', max_depth=6,\n",
       "                       max_features=None, max_leaf_nodes=None,\n",
       "                       min_impurity_decrease=0.0, min_impurity_split=None,\n",
       "                       min_samples_leaf=18, min_samples_split=35,\n",
       "                       min_weight_fraction_leaf=0.0, presort=False,\n",
       "                       random_state=None, splitter='best')"
      ]
     },
     "execution_count": 43,
     "metadata": {},
     "output_type": "execute_result"
    }
   ],
   "source": [
    "dtree.fit(x_train,y_train)"
   ]
  },
  {
   "cell_type": "code",
   "execution_count": 44,
   "metadata": {},
   "outputs": [
    {
     "data": {
      "text/plain": [
       "0.8455284552845529"
      ]
     },
     "execution_count": 44,
     "metadata": {},
     "output_type": "execute_result"
    }
   ],
   "source": [
    "y_pred = dtree.predict(x_test)\n",
    "accuracy_score(y_pred, y_test)"
   ]
  },
  {
   "cell_type": "code",
   "execution_count": null,
   "metadata": {},
   "outputs": [],
   "source": []
  },
  {
   "cell_type": "code",
   "execution_count": 29,
   "metadata": {},
   "outputs": [],
   "source": [
    "dotfile = open(\"mytree.dot\", 'w')\n",
    "\n",
    "tree.export_graphviz(dtree,out_file=dotfile,\n",
    "                     feature_names=x_train.columns,\n",
    "                    class_names=[\"0\",\"1\"],\n",
    "                     proportion=True)\n",
    "dotfile.close()"
   ]
  },
  {
   "cell_type": "code",
   "execution_count": 41,
   "metadata": {},
   "outputs": [
    {
     "data": {
      "text/plain": [
       "array([0.        , 0.68627451, 0.64285714, 0.88888889, 0.94444444,\n",
       "       0.17391304, 0.04545455, 0.625     , 0.68627451, 0.625     ,\n",
       "       0.75      , 0.68627451, 0.68627451, 0.        , 0.72222222,\n",
       "       0.68627451, 0.68627451, 0.5       , 0.94444444, 0.64285714,\n",
       "       0.42105263, 0.88888889, 0.17391304, 1.        , 1.        ,\n",
       "       0.17391304, 0.68627451, 0.68627451, 0.72222222, 0.94444444,\n",
       "       0.97368421, 0.17391304, 0.17391304, 0.79166667, 0.72222222,\n",
       "       0.97368421, 0.17391304, 0.79166667, 0.97368421, 0.86206897,\n",
       "       0.94444444, 0.64285714, 0.68627451, 0.5       , 0.        ,\n",
       "       0.75      , 0.97368421, 0.625     , 0.68627451, 0.86206897,\n",
       "       0.64285714, 0.64285714, 0.79166667, 0.68627451, 1.        ,\n",
       "       0.97368421, 0.72222222, 0.        , 1.        , 0.68627451,\n",
       "       0.17391304, 0.97368421, 0.68627451, 0.79166667, 0.88888889,\n",
       "       0.68627451, 0.97368421, 0.79166667, 0.97368421, 0.17391304,\n",
       "       0.75      , 0.64285714, 0.72222222, 0.94444444, 0.17391304,\n",
       "       1.        , 0.        , 0.88888889, 0.94444444, 0.42105263,\n",
       "       0.625     , 0.68627451, 0.97368421, 0.68627451, 0.64285714,\n",
       "       0.        , 0.625     , 0.        , 0.88888889, 0.625     ,\n",
       "       0.68627451, 0.17391304, 0.64285714, 0.17391304, 0.68627451,\n",
       "       0.68627451, 0.94444444, 0.04545455, 0.97368421, 1.        ,\n",
       "       0.79166667, 1.        , 0.68627451, 0.42105263, 0.5       ,\n",
       "       0.79166667, 0.625     , 0.94444444, 0.68627451, 0.17391304,\n",
       "       0.68627451, 1.        , 0.17391304, 0.17391304, 0.5       ,\n",
       "       0.68627451, 0.97368421, 0.64285714, 0.17391304, 0.17391304,\n",
       "       0.625     , 1.        , 0.88888889])"
      ]
     },
     "execution_count": 41,
     "metadata": {},
     "output_type": "execute_result"
    }
   ],
   "source": [
    "y_pred = random.predict_proba(x_test)[:,1]\n",
    "y_pred"
   ]
  },
  {
   "cell_type": "code",
   "execution_count": 31,
   "metadata": {},
   "outputs": [],
   "source": [
    "cutoffs = np.linspace(0.01,0.99,99)\n",
    "\n",
    "real = y_test\n",
    "ks_all = []\n",
    "acc_all = []\n",
    "f1_all = []\n",
    "\n",
    "for cutoff in cutoffs:\n",
    "    predicted = (y_pred>cutoff).astype(int)\n",
    "    TP = ((predicted == 1) & (real == 1)).sum()\n",
    "    FP = ((predicted == 1) & (real == 0)).sum()\n",
    "    TN = ((predicted == 0) & (real == 0)).sum()\n",
    "    FN = ((predicted == 0) & (real == 1)).sum()\n",
    "    \n",
    "    P = TP+FN\n",
    "    N = TN+FP\n",
    "    \n",
    "    Pr = (TP/(TP+FP))\n",
    "    Re = (TP/(FN+TP))\n",
    "    \n",
    "    KS = (TP/P)-(FP/N)\n",
    "    acc = (TP+TN)/(P+N)\n",
    "    f1 = (2*Pr*Re)/(Pr+Re)\n",
    "    \n",
    "    ks_all.append(KS)\n",
    "    acc_all.append(acc)\n",
    "    f1_all.append(f1)"
   ]
  },
  {
   "cell_type": "code",
   "execution_count": 32,
   "metadata": {},
   "outputs": [
    {
     "data": {
      "text/plain": [
       "0.6402597402597403"
      ]
     },
     "execution_count": 32,
     "metadata": {},
     "output_type": "execute_result"
    }
   ],
   "source": [
    "max(ks_all)"
   ]
  },
  {
   "cell_type": "code",
   "execution_count": 33,
   "metadata": {},
   "outputs": [
    {
     "data": {
      "text/plain": [
       "0.8861788617886179"
      ]
     },
     "execution_count": 33,
     "metadata": {},
     "output_type": "execute_result"
    }
   ],
   "source": [
    "max(acc_all)"
   ]
  },
  {
   "cell_type": "code",
   "execution_count": 34,
   "metadata": {},
   "outputs": [
    {
     "data": {
      "text/plain": [
       "0.9247311827956989"
      ]
     },
     "execution_count": 34,
     "metadata": {},
     "output_type": "execute_result"
    }
   ],
   "source": [
    "max(f1_all)"
   ]
  },
  {
   "cell_type": "code",
   "execution_count": 35,
   "metadata": {},
   "outputs": [
    {
     "data": {
      "text/plain": [
       "0.18000000000000002"
      ]
     },
     "execution_count": 35,
     "metadata": {},
     "output_type": "execute_result"
    }
   ],
   "source": [
    "my_cutoff = cutoffs[acc_all == max(acc_all)][0]\n",
    "my_cutoff"
   ]
  },
  {
   "cell_type": "code",
   "execution_count": 279,
   "metadata": {},
   "outputs": [
    {
     "data": {
      "text/plain": [
       "array([0, 1, 1, 1, 1, 0, 0, 1, 1, 1, 1, 1, 1, 0, 1, 1, 1, 1, 1, 1, 1, 1,\n",
       "       0, 1, 1, 0, 1, 1, 1, 1, 1, 0, 0, 1, 1, 1, 0, 1, 1, 1, 1, 1, 1, 1,\n",
       "       0, 1, 1, 1, 1, 1, 1, 1, 1, 1, 1, 1, 1, 0, 1, 1, 0, 1, 1, 1, 1, 1,\n",
       "       1, 1, 1, 0, 1, 1, 1, 1, 0, 1, 0, 1, 1, 1, 1, 1, 1, 1, 1, 0, 1, 0,\n",
       "       1, 1, 1, 0, 1, 0, 1, 1, 1, 0, 1, 1, 1, 1, 1, 1, 1, 1, 1, 1, 1, 0,\n",
       "       1, 1, 0, 0, 1, 1, 1, 1, 0, 0, 1, 1, 1])"
      ]
     },
     "execution_count": 279,
     "metadata": {},
     "output_type": "execute_result"
    }
   ],
   "source": [
    "y_predprob = (y_pred>my_cutoff).astype(int)\n",
    "y_predprob"
   ]
  },
  {
   "cell_type": "code",
   "execution_count": 280,
   "metadata": {},
   "outputs": [
    {
     "data": {
      "text/plain": [
       "array([[23, 12],\n",
       "       [ 2, 86]], dtype=int64)"
      ]
     },
     "execution_count": 280,
     "metadata": {},
     "output_type": "execute_result"
    }
   ],
   "source": [
    "from sklearn.metrics import confusion_matrix,accuracy_score\n",
    "confusion_matrix(y_test, y_predprob)"
   ]
  },
  {
   "cell_type": "code",
   "execution_count": 281,
   "metadata": {},
   "outputs": [
    {
     "data": {
      "text/plain": [
       "0.8861788617886179"
      ]
     },
     "execution_count": 281,
     "metadata": {},
     "output_type": "execute_result"
    }
   ],
   "source": [
    "accuracy_score(y_test, y_predprob)"
   ]
  },
  {
   "cell_type": "code",
   "execution_count": null,
   "metadata": {},
   "outputs": [],
   "source": []
  },
  {
   "cell_type": "code",
   "execution_count": null,
   "metadata": {},
   "outputs": [],
   "source": []
  },
  {
   "cell_type": "code",
   "execution_count": 282,
   "metadata": {},
   "outputs": [],
   "source": [
    "X = train.drop('Loan_Status', axis=1)\n",
    "Y = train['Loan_Status']"
   ]
  },
  {
   "cell_type": "code",
   "execution_count": 283,
   "metadata": {},
   "outputs": [
    {
     "name": "stdout",
     "output_type": "stream",
     "text": [
      "Fitting 10 folds for each of 1 candidates, totalling 10 fits\n",
      "[CV] min_samples_split=35, min_samples_leaf=18, max_depth=6, criterion=entropy, class_weight=None \n",
      "[CV]  min_samples_split=35, min_samples_leaf=18, max_depth=6, criterion=entropy, class_weight=None, total=   0.0s\n",
      "[CV] min_samples_split=35, min_samples_leaf=18, max_depth=6, criterion=entropy, class_weight=None \n",
      "[CV]  min_samples_split=35, min_samples_leaf=18, max_depth=6, criterion=entropy, class_weight=None, total=   0.0s\n",
      "[CV] min_samples_split=35, min_samples_leaf=18, max_depth=6, criterion=entropy, class_weight=None \n",
      "[CV]  min_samples_split=35, min_samples_leaf=18, max_depth=6, criterion=entropy, class_weight=None, total=   0.0s\n",
      "[CV] min_samples_split=35, min_samples_leaf=18, max_depth=6, criterion=entropy, class_weight=None \n",
      "[CV]  min_samples_split=35, min_samples_leaf=18, max_depth=6, criterion=entropy, class_weight=None, total=   0.0s\n",
      "[CV] min_samples_split=35, min_samples_leaf=18, max_depth=6, criterion=entropy, class_weight=None \n",
      "[CV]  min_samples_split=35, min_samples_leaf=18, max_depth=6, criterion=entropy, class_weight=None, total=   0.0s\n",
      "[CV] min_samples_split=35, min_samples_leaf=18, max_depth=6, criterion=entropy, class_weight=None \n",
      "[CV]  min_samples_split=35, min_samples_leaf=18, max_depth=6, criterion=entropy, class_weight=None, total=   0.0s\n",
      "[CV] min_samples_split=35, min_samples_leaf=18, max_depth=6, criterion=entropy, class_weight=None \n",
      "[CV]  min_samples_split=35, min_samples_leaf=18, max_depth=6, criterion=entropy, class_weight=None, total=   0.0s\n",
      "[CV] min_samples_split=35, min_samples_leaf=18, max_depth=6, criterion=entropy, class_weight=None \n",
      "[CV]  min_samples_split=35, min_samples_leaf=18, max_depth=6, criterion=entropy, class_weight=None, total=   0.0s\n",
      "[CV] min_samples_split=35, min_samples_leaf=18, max_depth=6, criterion=entropy, class_weight=None \n",
      "[CV]  min_samples_split=35, min_samples_leaf=18, max_depth=6, criterion=entropy, class_weight=None, total=   0.0s\n",
      "[CV] min_samples_split=35, min_samples_leaf=18, max_depth=6, criterion=entropy, class_weight=None \n",
      "[CV]  min_samples_split=35, min_samples_leaf=18, max_depth=6, criterion=entropy, class_weight=None, total=   0.0s\n"
     ]
    },
    {
     "name": "stderr",
     "output_type": "stream",
     "text": [
      "C:\\ProgramData\\Anaconda3\\lib\\site-packages\\sklearn\\model_selection\\_search.py:266: UserWarning: The total space of parameters 1 is smaller than n_iter=10. Running 1 iterations. For exhaustive searches, use GridSearchCV.\n",
      "  % (grid_size, self.n_iter, grid_size), UserWarning)\n",
      "[Parallel(n_jobs=1)]: Using backend SequentialBackend with 1 concurrent workers.\n",
      "[Parallel(n_jobs=1)]: Done   1 out of   1 | elapsed:    0.0s remaining:    0.0s\n",
      "[Parallel(n_jobs=1)]: Done  10 out of  10 | elapsed:    0.0s finished\n"
     ]
    },
    {
     "data": {
      "text/plain": [
       "RandomizedSearchCV(cv=10, error_score='raise-deprecating',\n",
       "                   estimator=DecisionTreeClassifier(class_weight=None,\n",
       "                                                    criterion='gini',\n",
       "                                                    max_depth=None,\n",
       "                                                    max_features=None,\n",
       "                                                    max_leaf_nodes=None,\n",
       "                                                    min_impurity_decrease=0.0,\n",
       "                                                    min_impurity_split=None,\n",
       "                                                    min_samples_leaf=1,\n",
       "                                                    min_samples_split=2,\n",
       "                                                    min_weight_fraction_leaf=0.0,\n",
       "                                                    presort=False,\n",
       "                                                    random_state=None,\n",
       "                                                    splitter='best'),\n",
       "                   iid='warn', n_iter=10, n_jobs=None,\n",
       "                   param_distributions={'class_weight': [None],\n",
       "                                        'criterion': ['entropy'],\n",
       "                                        'max_depth': [6],\n",
       "                                        'min_samples_leaf': [18],\n",
       "                                        'min_samples_split': [35]},\n",
       "                   pre_dispatch='2*n_jobs', random_state=42, refit=True,\n",
       "                   return_train_score=False, scoring='accuracy', verbose=2)"
      ]
     },
     "execution_count": 283,
     "metadata": {},
     "output_type": "execute_result"
    }
   ],
   "source": [
    "random.fit(X, Y)"
   ]
  },
  {
   "cell_type": "code",
   "execution_count": 284,
   "metadata": {},
   "outputs": [
    {
     "data": {
      "text/plain": [
       "DecisionTreeClassifier(class_weight=None, criterion='entropy', max_depth=6,\n",
       "                       max_features=None, max_leaf_nodes=None,\n",
       "                       min_impurity_decrease=0.0, min_impurity_split=None,\n",
       "                       min_samples_leaf=18, min_samples_split=35,\n",
       "                       min_weight_fraction_leaf=0.0, presort=False,\n",
       "                       random_state=None, splitter='best')"
      ]
     },
     "execution_count": 284,
     "metadata": {},
     "output_type": "execute_result"
    }
   ],
   "source": [
    "random.best_estimator_"
   ]
  },
  {
   "cell_type": "code",
   "execution_count": 285,
   "metadata": {},
   "outputs": [
    {
     "data": {
      "text/plain": [
       "array([0.80165289, 0.84615385, 0.80165289, 1.        , 0.66666667,\n",
       "       0.94444444, 0.7826087 , 0.22727273, 0.80165289, 0.89655172,\n",
       "       0.66666667, 0.55555556, 0.55172414, 0.22727273, 0.89655172,\n",
       "       0.80165289, 0.59090909, 1.        , 0.59090909, 0.89655172,\n",
       "       0.5862069 , 0.66666667, 0.55172414, 0.80165289, 0.59090909,\n",
       "       0.04761905, 0.80165289, 0.59090909, 1.        , 1.        ,\n",
       "       0.7826087 , 0.80165289, 0.55555556, 1.        , 0.84615385,\n",
       "       0.22727273, 0.59090909, 1.        , 0.80165289, 0.80165289,\n",
       "       0.55172414, 0.80165289, 0.94444444, 0.80645161, 0.55172414,\n",
       "       0.59090909, 0.80165289, 0.89655172, 0.59090909, 0.55555556,\n",
       "       0.84615385, 1.        , 0.80645161, 0.55172414, 0.55172414,\n",
       "       0.22727273, 0.80165289, 1.        , 0.04761905, 0.88888889,\n",
       "       0.94444444, 0.80165289, 0.55555556, 0.        , 0.80165289,\n",
       "       1.        , 0.22727273, 0.22727273, 0.55555556, 0.04761905,\n",
       "       0.7826087 , 0.7826087 , 0.80165289, 0.59090909, 0.88888889,\n",
       "       0.59090909, 1.        , 0.55172414, 1.        , 0.80165289,\n",
       "       0.22727273, 0.80165289, 0.22727273, 0.80165289, 0.22727273,\n",
       "       0.55172414, 0.80165289, 0.7826087 , 0.7826087 , 0.80165289,\n",
       "       1.        , 0.80165289, 0.80645161, 0.88888889, 0.        ,\n",
       "       0.88888889, 0.94444444, 1.        , 0.55172414, 0.55555556,\n",
       "       0.80165289, 0.22727273, 0.80165289, 0.66666667, 0.89655172,\n",
       "       0.84210526, 0.        , 0.80165289, 0.88888889, 0.80165289,\n",
       "       0.89655172, 1.        , 0.55172414, 1.        , 0.59090909,\n",
       "       0.80645161, 0.55555556, 0.05555556, 0.        , 0.04761905,\n",
       "       0.66666667, 0.94444444, 0.84615385, 0.04761905, 0.22727273,\n",
       "       0.89655172, 0.05555556, 0.80165289, 0.66666667, 1.        ,\n",
       "       0.84615385, 0.80165289, 0.84615385, 0.55172414, 0.55172414,\n",
       "       0.80165289, 0.80165289, 0.5862069 , 0.89655172, 0.89655172,\n",
       "       0.22727273, 0.94444444, 0.22727273, 0.84210526, 0.80165289,\n",
       "       0.80165289, 0.7826087 , 0.22727273, 0.88888889, 0.80165289,\n",
       "       0.94444444, 0.84615385, 0.80165289, 0.        , 0.55172414,\n",
       "       0.89655172, 0.59090909, 0.59090909, 0.80645161, 0.80165289,\n",
       "       0.59090909, 0.05555556, 0.80165289, 0.66666667, 1.        ,\n",
       "       0.22727273, 0.        , 0.94444444, 0.05555556, 0.55172414,\n",
       "       0.80165289, 0.80165289, 0.80165289, 0.04761905, 0.        ,\n",
       "       0.59090909, 0.94444444, 0.66666667, 0.80165289, 0.80165289,\n",
       "       0.80645161, 0.80645161, 0.80165289, 0.59090909, 0.80165289,\n",
       "       0.88888889, 0.55555556, 0.84210526, 0.80165289, 0.59090909,\n",
       "       0.80165289, 0.55172414, 0.04761905, 0.        , 0.80645161,\n",
       "       0.80165289, 0.        , 0.5862069 , 0.        , 0.5862069 ,\n",
       "       0.80165289, 0.66666667, 0.84615385, 1.        , 0.7826087 ,\n",
       "       1.        , 0.80645161, 1.        , 0.55172414, 0.94444444,\n",
       "       0.66666667, 0.04761905, 0.55555556, 0.80165289, 0.59090909,\n",
       "       1.        , 1.        , 0.59090909, 0.59090909, 0.59090909,\n",
       "       1.        , 0.59090909, 0.66666667, 0.80165289, 0.22727273,\n",
       "       0.66666667, 0.84615385, 0.55172414, 1.        , 0.        ,\n",
       "       0.89655172, 0.94444444, 0.5862069 , 0.7826087 , 0.84615385,\n",
       "       0.04761905, 0.        , 0.55172414, 1.        , 0.55172414,\n",
       "       0.55172414, 0.        , 1.        , 0.        , 0.7826087 ,\n",
       "       0.04761905, 0.59090909, 0.80165289, 1.        , 0.66666667,\n",
       "       0.22727273, 1.        , 0.89655172, 0.80165289, 0.80165289,\n",
       "       0.        , 0.55172414, 0.94444444, 0.94444444, 0.5862069 ,\n",
       "       0.80645161, 1.        , 0.55172414, 0.80165289, 0.84615385,\n",
       "       0.89655172, 0.        , 0.59090909, 0.05555556, 0.55172414,\n",
       "       0.5862069 , 0.94444444, 0.84210526, 0.22727273, 0.05555556,\n",
       "       1.        , 0.80165289, 0.89655172, 0.22727273, 0.55555556,\n",
       "       0.89655172, 0.80165289, 0.80165289, 0.80165289, 0.59090909,\n",
       "       0.80165289, 1.        , 0.5862069 , 0.80165289, 0.59090909,\n",
       "       0.80645161, 1.        , 0.66666667, 0.05555556, 0.5862069 ,\n",
       "       1.        , 0.89655172, 0.55172414, 1.        , 0.80165289,\n",
       "       0.55172414, 0.        , 0.80165289, 0.5862069 , 1.        ,\n",
       "       0.55555556, 0.80165289, 0.80165289, 0.80165289, 1.        ,\n",
       "       0.80165289, 0.04761905, 1.        , 0.80165289, 0.80165289,\n",
       "       0.55555556, 0.80165289, 0.05555556, 0.80165289, 1.        ,\n",
       "       0.84615385, 0.5862069 , 0.55172414, 0.7826087 , 0.55172414,\n",
       "       0.05555556, 1.        , 0.80165289, 0.80165289, 1.        ,\n",
       "       0.80165289, 0.80165289, 0.59090909, 0.88888889, 0.94444444,\n",
       "       0.66666667, 1.        , 0.84615385, 0.94444444, 0.04761905,\n",
       "       1.        , 0.59090909, 0.55172414, 0.55172414, 0.80165289,\n",
       "       0.80165289, 0.04761905, 0.66666667, 0.80165289, 0.66666667,\n",
       "       0.80165289, 0.94444444, 0.80165289, 0.59090909, 0.22727273,\n",
       "       0.80165289, 0.55172414, 0.66666667, 0.66666667, 0.80645161,\n",
       "       0.55172414, 0.94444444, 0.80165289, 0.80165289, 0.89655172,\n",
       "       0.59090909, 0.55172414])"
      ]
     },
     "execution_count": 285,
     "metadata": {},
     "output_type": "execute_result"
    }
   ],
   "source": [
    "y_pred = random.predict_proba(test)[:,1]\n",
    "y_pred"
   ]
  },
  {
   "cell_type": "code",
   "execution_count": 286,
   "metadata": {},
   "outputs": [],
   "source": [
    "trainscore = random.predict_proba(X)[:,1]    # this gives prob of predicted response on the training data\n",
    "real = Y                                    # The actual hardclass response"
   ]
  },
  {
   "cell_type": "code",
   "execution_count": 287,
   "metadata": {},
   "outputs": [],
   "source": [
    "cutoffs = np.linspace(0.01,0.99,99)\n",
    "\n",
    "real = Y \n",
    "ks_all = []\n",
    "acc_all = []\n",
    "f1_all = []\n",
    "\n",
    "for cutoff in cutoffs:\n",
    "    predicted = (trainscore>cutoff).astype(int)\n",
    "    TP = ((predicted == 1) & (real == 1)).sum()\n",
    "    FP = ((predicted == 1) & (real == 0)).sum()\n",
    "    TN = ((predicted == 0) & (real == 0)).sum()\n",
    "    FN = ((predicted == 0) & (real == 1)).sum()\n",
    "    \n",
    "    P = TP+FN\n",
    "    N = TN+FP\n",
    "    \n",
    "    Pr = (TP/(TP+FP))\n",
    "    Re = (TP/(FN+TP))\n",
    "    \n",
    "    KS = (TP/P)-(FP/N)\n",
    "    acc = (TP+TN)/(P+N)\n",
    "    f1 = (2*Pr*Re)/(Pr+Re)\n",
    "    \n",
    "    ks_all.append(KS)\n",
    "    acc_all.append(acc)\n",
    "    f1_all.append(f1)"
   ]
  },
  {
   "cell_type": "code",
   "execution_count": 288,
   "metadata": {},
   "outputs": [
    {
     "data": {
      "text/plain": [
       "0.5173035150078988"
      ]
     },
     "execution_count": 288,
     "metadata": {},
     "output_type": "execute_result"
    }
   ],
   "source": [
    "max(ks_all)"
   ]
  },
  {
   "cell_type": "code",
   "execution_count": 289,
   "metadata": {},
   "outputs": [
    {
     "data": {
      "text/plain": [
       "0.8094462540716613"
      ]
     },
     "execution_count": 289,
     "metadata": {},
     "output_type": "execute_result"
    }
   ],
   "source": [
    "max(acc_all)"
   ]
  },
  {
   "cell_type": "code",
   "execution_count": 290,
   "metadata": {},
   "outputs": [
    {
     "data": {
      "text/plain": [
       "0.23"
      ]
     },
     "execution_count": 290,
     "metadata": {},
     "output_type": "execute_result"
    }
   ],
   "source": [
    "my_cutoff = cutoffs[acc_all == max(acc_all)][0]\n",
    "my_cutoff"
   ]
  },
  {
   "cell_type": "code",
   "execution_count": null,
   "metadata": {},
   "outputs": [],
   "source": []
  },
  {
   "cell_type": "code",
   "execution_count": 295,
   "metadata": {},
   "outputs": [
    {
     "data": {
      "text/html": [
       "<div>\n",
       "<style scoped>\n",
       "    .dataframe tbody tr th:only-of-type {\n",
       "        vertical-align: middle;\n",
       "    }\n",
       "\n",
       "    .dataframe tbody tr th {\n",
       "        vertical-align: top;\n",
       "    }\n",
       "\n",
       "    .dataframe thead th {\n",
       "        text-align: right;\n",
       "    }\n",
       "</style>\n",
       "<table border=\"1\" class=\"dataframe\">\n",
       "  <thead>\n",
       "    <tr style=\"text-align: right;\">\n",
       "      <th></th>\n",
       "      <th>Loan_ID</th>\n",
       "      <th>Loan_Status</th>\n",
       "    </tr>\n",
       "  </thead>\n",
       "  <tbody>\n",
       "    <tr>\n",
       "      <th>362</th>\n",
       "      <td>LP002971</td>\n",
       "      <td>Y</td>\n",
       "    </tr>\n",
       "    <tr>\n",
       "      <th>363</th>\n",
       "      <td>LP002975</td>\n",
       "      <td>Y</td>\n",
       "    </tr>\n",
       "    <tr>\n",
       "      <th>364</th>\n",
       "      <td>LP002980</td>\n",
       "      <td>Y</td>\n",
       "    </tr>\n",
       "    <tr>\n",
       "      <th>365</th>\n",
       "      <td>LP002986</td>\n",
       "      <td>Y</td>\n",
       "    </tr>\n",
       "    <tr>\n",
       "      <th>366</th>\n",
       "      <td>LP002989</td>\n",
       "      <td>Y</td>\n",
       "    </tr>\n",
       "  </tbody>\n",
       "</table>\n",
       "</div>"
      ],
      "text/plain": [
       "      Loan_ID Loan_Status\n",
       "362  LP002971           Y\n",
       "363  LP002975           Y\n",
       "364  LP002980           Y\n",
       "365  LP002986           Y\n",
       "366  LP002989           Y"
      ]
     },
     "execution_count": 295,
     "metadata": {},
     "output_type": "execute_result"
    }
   ],
   "source": [
    "Submission = pd.read_csv('sample_submission.csv')\n",
    "del Submission['Loan_Status']\n",
    "Submission['Loan_Status'] = (y_pred>my_cutoff).astype(int)\n",
    "Submission['Loan_Status'] = np.where(Submission['Loan_Status'] == 1, \"Y\", 'N')\n",
    "Submission.tail()"
   ]
  },
  {
   "cell_type": "code",
   "execution_count": 296,
   "metadata": {},
   "outputs": [],
   "source": [
    "Submission.to_csv('DT_Sub.csv', index=False)"
   ]
  },
  {
   "cell_type": "code",
   "execution_count": 297,
   "metadata": {},
   "outputs": [
    {
     "data": {
      "text/plain": [
       "Y    308\n",
       "N     59\n",
       "Name: Loan_Status, dtype: int64"
      ]
     },
     "execution_count": 297,
     "metadata": {},
     "output_type": "execute_result"
    }
   ],
   "source": [
    "Submission['Loan_Status'].value_counts()"
   ]
  },
  {
   "cell_type": "code",
   "execution_count": null,
   "metadata": {},
   "outputs": [],
   "source": []
  }
 ],
 "metadata": {
  "kernelspec": {
   "display_name": "Python 3",
   "language": "python",
   "name": "python3"
  },
  "language_info": {
   "codemirror_mode": {
    "name": "ipython",
    "version": 3
   },
   "file_extension": ".py",
   "mimetype": "text/x-python",
   "name": "python",
   "nbconvert_exporter": "python",
   "pygments_lexer": "ipython3",
   "version": "3.7.3"
  }
 },
 "nbformat": 4,
 "nbformat_minor": 2
}
